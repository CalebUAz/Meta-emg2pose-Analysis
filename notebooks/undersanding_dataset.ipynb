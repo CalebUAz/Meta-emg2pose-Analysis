{
 "cells": [
  {
   "cell_type": "markdown",
   "metadata": {},
   "source": [
    "# Downloading the dataset and unpacking"
   ]
  },
  {
   "cell_type": "code",
   "execution_count": 10,
   "metadata": {},
   "outputs": [],
   "source": [
    "from pathlib import Path\n",
    "DATA_DOWNLOAD_DIR = '../dataset/'"
   ]
  },
  {
   "cell_type": "code",
   "execution_count": 12,
   "metadata": {},
   "outputs": [
    {
     "name": "stdout",
     "output_type": "stream",
     "text": [
      "  % Total    % Received % Xferd  Average Speed   Time    Time     Time  Current\n",
      "                                 Dload  Upload   Total   Spent    Left  Speed\n",
      "100 5541k  100 5541k    0     0  4790k      0  0:00:01  0:00:01 --:--:-- 4789k\n"
     ]
    }
   ],
   "source": [
    "!cd {DATA_DOWNLOAD_DIR} && curl https://fb-ctrl-oss.s3.amazonaws.com/emg2pose/emg2pose_metadata.csv -o emg2pose_metadata.csv"
   ]
  },
  {
   "cell_type": "code",
   "execution_count": 11,
   "metadata": {},
   "outputs": [
    {
     "data": {
      "text/plain": [
       "'../dataset/'"
      ]
     },
     "execution_count": 11,
     "metadata": {},
     "output_type": "execute_result"
    }
   ],
   "source": [
    "DATA_DOWNLOAD_DIR"
   ]
  },
  {
   "cell_type": "code",
   "execution_count": 7,
   "metadata": {},
   "outputs": [
    {
     "data": {
      "text/html": [
       "<div>\n",
       "<style scoped>\n",
       "    .dataframe tbody tr th:only-of-type {\n",
       "        vertical-align: middle;\n",
       "    }\n",
       "\n",
       "    .dataframe tbody tr th {\n",
       "        vertical-align: top;\n",
       "    }\n",
       "\n",
       "    .dataframe thead th {\n",
       "        text-align: right;\n",
       "    }\n",
       "</style>\n",
       "<table border=\"1\" class=\"dataframe\">\n",
       "  <thead>\n",
       "    <tr style=\"text-align: right;\">\n",
       "      <th></th>\n",
       "      <th>session</th>\n",
       "      <th>user</th>\n",
       "      <th>stage</th>\n",
       "      <th>start</th>\n",
       "      <th>end</th>\n",
       "      <th>side</th>\n",
       "      <th>filename</th>\n",
       "      <th>moving_hand</th>\n",
       "      <th>held_out_user</th>\n",
       "      <th>held_out_stage</th>\n",
       "      <th>split</th>\n",
       "      <th>generalization</th>\n",
       "    </tr>\n",
       "  </thead>\n",
       "  <tbody>\n",
       "    <tr>\n",
       "      <th>0</th>\n",
       "      <td>2022-04-07-1649318400-8125c-cv-emg-pose-train@2</td>\n",
       "      <td>29ddab35d7</td>\n",
       "      <td>ThumbsUpDownThumbRotationsCWCCWP</td>\n",
       "      <td>1.649400e+09</td>\n",
       "      <td>1.649400e+09</td>\n",
       "      <td>left</td>\n",
       "      <td>2022-04-07-1649318400-8125c-cv-emg-pose-train@...</td>\n",
       "      <td>both</td>\n",
       "      <td>True</td>\n",
       "      <td>False</td>\n",
       "      <td>val</td>\n",
       "      <td>user</td>\n",
       "    </tr>\n",
       "    <tr>\n",
       "      <th>1</th>\n",
       "      <td>2022-04-07-1649318400-8125c-cv-emg-pose-train@2</td>\n",
       "      <td>29ddab35d7</td>\n",
       "      <td>ThumbsUpDownThumbRotationsCWCCWP</td>\n",
       "      <td>1.649400e+09</td>\n",
       "      <td>1.649400e+09</td>\n",
       "      <td>right</td>\n",
       "      <td>2022-04-07-1649318400-8125c-cv-emg-pose-train@...</td>\n",
       "      <td>both</td>\n",
       "      <td>True</td>\n",
       "      <td>False</td>\n",
       "      <td>val</td>\n",
       "      <td>user</td>\n",
       "    </tr>\n",
       "    <tr>\n",
       "      <th>2</th>\n",
       "      <td>2022-04-07-1649318400-8125c-cv-emg-pose-train@2</td>\n",
       "      <td>29ddab35d7</td>\n",
       "      <td>HandClawGraspFlicks</td>\n",
       "      <td>1.649401e+09</td>\n",
       "      <td>1.649401e+09</td>\n",
       "      <td>left</td>\n",
       "      <td>2022-04-07-1649318400-8125c-cv-emg-pose-train@...</td>\n",
       "      <td>both</td>\n",
       "      <td>True</td>\n",
       "      <td>False</td>\n",
       "      <td>val</td>\n",
       "      <td>user</td>\n",
       "    </tr>\n",
       "    <tr>\n",
       "      <th>3</th>\n",
       "      <td>2022-04-07-1649318400-8125c-cv-emg-pose-train@2</td>\n",
       "      <td>29ddab35d7</td>\n",
       "      <td>HandClawGraspFlicks</td>\n",
       "      <td>1.649401e+09</td>\n",
       "      <td>1.649401e+09</td>\n",
       "      <td>right</td>\n",
       "      <td>2022-04-07-1649318400-8125c-cv-emg-pose-train@...</td>\n",
       "      <td>both</td>\n",
       "      <td>True</td>\n",
       "      <td>False</td>\n",
       "      <td>val</td>\n",
       "      <td>user</td>\n",
       "    </tr>\n",
       "    <tr>\n",
       "      <th>4</th>\n",
       "      <td>2022-04-07-1649318400-8125c-cv-emg-pose-train@2</td>\n",
       "      <td>29ddab35d7</td>\n",
       "      <td>ShakaVulcanPeace</td>\n",
       "      <td>1.649401e+09</td>\n",
       "      <td>1.649401e+09</td>\n",
       "      <td>left</td>\n",
       "      <td>2022-04-07-1649318400-8125c-cv-emg-pose-train@...</td>\n",
       "      <td>both</td>\n",
       "      <td>True</td>\n",
       "      <td>True</td>\n",
       "      <td>val</td>\n",
       "      <td>user_stage</td>\n",
       "    </tr>\n",
       "  </tbody>\n",
       "</table>\n",
       "</div>"
      ],
      "text/plain": [
       "                                           session        user  \\\n",
       "0  2022-04-07-1649318400-8125c-cv-emg-pose-train@2  29ddab35d7   \n",
       "1  2022-04-07-1649318400-8125c-cv-emg-pose-train@2  29ddab35d7   \n",
       "2  2022-04-07-1649318400-8125c-cv-emg-pose-train@2  29ddab35d7   \n",
       "3  2022-04-07-1649318400-8125c-cv-emg-pose-train@2  29ddab35d7   \n",
       "4  2022-04-07-1649318400-8125c-cv-emg-pose-train@2  29ddab35d7   \n",
       "\n",
       "                              stage         start           end   side  \\\n",
       "0  ThumbsUpDownThumbRotationsCWCCWP  1.649400e+09  1.649400e+09   left   \n",
       "1  ThumbsUpDownThumbRotationsCWCCWP  1.649400e+09  1.649400e+09  right   \n",
       "2               HandClawGraspFlicks  1.649401e+09  1.649401e+09   left   \n",
       "3               HandClawGraspFlicks  1.649401e+09  1.649401e+09  right   \n",
       "4                  ShakaVulcanPeace  1.649401e+09  1.649401e+09   left   \n",
       "\n",
       "                                            filename moving_hand  \\\n",
       "0  2022-04-07-1649318400-8125c-cv-emg-pose-train@...        both   \n",
       "1  2022-04-07-1649318400-8125c-cv-emg-pose-train@...        both   \n",
       "2  2022-04-07-1649318400-8125c-cv-emg-pose-train@...        both   \n",
       "3  2022-04-07-1649318400-8125c-cv-emg-pose-train@...        both   \n",
       "4  2022-04-07-1649318400-8125c-cv-emg-pose-train@...        both   \n",
       "\n",
       "   held_out_user  held_out_stage split generalization  \n",
       "0           True           False   val           user  \n",
       "1           True           False   val           user  \n",
       "2           True           False   val           user  \n",
       "3           True           False   val           user  \n",
       "4           True            True   val     user_stage  "
      ]
     },
     "execution_count": 7,
     "metadata": {},
     "output_type": "execute_result"
    }
   ],
   "source": [
    "import pandas as pd\n",
    "\n",
    "metadata_df = pd.read_csv(DATA_DOWNLOAD_DIR / \"emg2pose_metadata.csv\")\n",
    "metadata_df.head(5)"
   ]
  },
  {
   "cell_type": "code",
   "execution_count": null,
   "metadata": {},
   "outputs": [
    {
     "name": "stdout",
     "output_type": "stream",
     "text": [
      "  % Total    % Received % Xferd  Average Speed   Time    Time     Time  Current\n",
      "                                 Dload  Upload   Total   Spent    Left  Speed\n",
      "100  617M  100  617M    0     0  1692k      0  0:06:13  0:06:13 --:--:-- 1386k 0  11.0M      0  0:00:55  0:00:02  0:00:53 11.0M0:13  0:01:39 2792k16 2442k0  617M   30  186M    0     0  3060k      0  0:03:26  0:01:02  0:02:24 1984k    0  0:04:27  0:01:53  0:02:34 1210k2:16 1743kk      0  0:05:32  0:03:20  0:02:12 1036k:10  933k:56  0:04:21  0:01:35 1477k05:57  0:04:28  0:01:29 1399k9  0:04:44  0:01:15 1786k     0  0:05:59  0:04:50  0:01:09 1761k 0:05:57  0:00:11 1681k\n",
      "tar: Error opening archive: Failed to open 'emg2pose_dataset_mini.tar'\n"
     ]
    }
   ],
   "source": [
    "!cd {DATA_DOWNLOAD_DIR} && curl \"https://fb-ctrl-oss.s3.amazonaws.com/emg2pose/emg2pose_dataset_mini.tar\" -o emg2pose_dataset_mini.tar"
   ]
  },
  {
   "cell_type": "code",
   "execution_count": 14,
   "metadata": {},
   "outputs": [
    {
     "name": "stdout",
     "output_type": "stream",
     "text": [
      "x emg2pose_dataset_mini/\n",
      "x emg2pose_dataset_mini/2022-12-06-1670313600-e3096-cv-emg-pose-train@2-recording-13_right.hdf5\n",
      "x emg2pose_dataset_mini/2022-12-06-1670313600-e3096-cv-emg-pose-train@2-recording-3_left.hdf5\n",
      "x emg2pose_dataset_mini/2022-12-06-1670313600-e3096-cv-emg-pose-train@2-recording-1_right.hdf5\n",
      "x emg2pose_dataset_mini/2022-12-06-1670313600-e3096-cv-emg-pose-train@2-recording-15_left.hdf5\n",
      "x emg2pose_dataset_mini/2022-12-06-1670313600-e3096-cv-emg-pose-train@2-recording-5_left.hdf5\n",
      "x emg2pose_dataset_mini/2022-12-06-1670313600-e3096-cv-emg-pose-train@2-recording-4_right.hdf5\n",
      "x emg2pose_dataset_mini/2022-12-06-1670313600-e3096-cv-emg-pose-train@2-recording-13_left.hdf5\n",
      "x emg2pose_dataset_mini/2022-12-06-1670313600-e3096-cv-emg-pose-train@2-recording-8_left.hdf5\n",
      "x emg2pose_dataset_mini/2022-12-06-1670313600-e3096-cv-emg-pose-train@2-recording-9_right.hdf5\n",
      "x emg2pose_dataset_mini/2022-12-06-1670313600-e3096-cv-emg-pose-train@2-recording-2_left.hdf5\n",
      "x emg2pose_dataset_mini/2022-12-06-1670313600-e3096-cv-emg-pose-train@2-recording-11_right.hdf5\n",
      "x emg2pose_dataset_mini/2022-12-06-1670313600-e3096-cv-emg-pose-train@2-recording-3_right.hdf5\n",
      "x emg2pose_dataset_mini/2022-12-06-1670313600-e3096-cv-emg-pose-train@2-recording-14_left.hdf5\n",
      "x emg2pose_dataset_mini/2022-12-06-1670313600-e3096-cv-emg-pose-train@2-recording-4_left.hdf5\n",
      "x emg2pose_dataset_mini/2022-12-06-1670313600-e3096-cv-emg-pose-train@2-recording-6_right.hdf5\n",
      "x emg2pose_dataset_mini/2022-12-06-1670313600-e3096-cv-emg-pose-train@2-recording-9_left.hdf5\n",
      "x emg2pose_dataset_mini/2022-12-06-1670313600-e3096-cv-emg-pose-train@2-recording-12_left.hdf5\n",
      "x emg2pose_dataset_mini/2022-12-06-1670313600-e3096-cv-emg-pose-train@2-recording-14_right.hdf5\n",
      "x emg2pose_dataset_mini/2022-12-06-1670313600-e3096-cv-emg-pose-train@2-recording-1_left.hdf5\n",
      "x emg2pose_dataset_mini/2022-12-06-1670313600-e3096-cv-emg-pose-train@2-recording-5_right.hdf5\n",
      "x emg2pose_dataset_mini/2022-12-06-1670313600-e3096-cv-emg-pose-train@2-recording-8_right.hdf5\n",
      "x emg2pose_dataset_mini/2022-12-06-1670313600-e3096-cv-emg-pose-train@2-recording-12_right.hdf5\n",
      "x emg2pose_dataset_mini/2022-12-06-1670313600-e3096-cv-emg-pose-train@2-recording-7_left.hdf5\n",
      "x emg2pose_dataset_mini/2022-12-06-1670313600-e3096-cv-emg-pose-train@2-recording-11_left.hdf5\n",
      "x emg2pose_dataset_mini/metadata.csv\n",
      "x emg2pose_dataset_mini/2022-12-06-1670313600-e3096-cv-emg-pose-train@2-recording-7_right.hdf5\n",
      "x emg2pose_dataset_mini/2022-12-06-1670313600-e3096-cv-emg-pose-train@2-recording-15_right.hdf5\n",
      "x emg2pose_dataset_mini/2022-12-06-1670313600-e3096-cv-emg-pose-train@2-recording-6_left.hdf5\n",
      "x emg2pose_dataset_mini/2022-12-06-1670313600-e3096-cv-emg-pose-train@2-recording-10_right.hdf5\n",
      "x emg2pose_dataset_mini/2022-12-06-1670313600-e3096-cv-emg-pose-train@2-recording-2_right.hdf5\n",
      "x emg2pose_dataset_mini/2022-12-06-1670313600-e3096-cv-emg-pose-train@2-recording-10_left.hdf5\n"
     ]
    }
   ],
   "source": [
    "!tar -xvf '{DATA_DOWNLOAD_DIR}/emg2pose_dataset_mini.tar'"
   ]
  },
  {
   "cell_type": "markdown",
   "metadata": {},
   "source": [
    "# Using emg2pose data functions"
   ]
  },
  {
   "cell_type": "code",
   "execution_count": 1,
   "metadata": {},
   "outputs": [],
   "source": [
    "import glob\n",
    "import os\n",
    "DATA_DOWNLOAD_DIR = '../dataset/'\n",
    "sessions = sorted(glob.glob(os.path.join(DATA_DOWNLOAD_DIR, \"emg2pose_dataset_mini/*.hdf5\")))"
   ]
  },
  {
   "cell_type": "code",
   "execution_count": 2,
   "metadata": {},
   "outputs": [],
   "source": [
    "import sys\n",
    "import os\n",
    "\n",
    "# Add the parent directory of emg2pose_Meta to the Python path\n",
    "sys.path.append(os.path.abspath(\"../\"))"
   ]
  },
  {
   "cell_type": "code",
   "execution_count": 8,
   "metadata": {},
   "outputs": [],
   "source": [
    "from utils.data import Emg2PoseSessionData\n",
    "\n",
    "session = sessions[15]\n",
    "data = Emg2PoseSessionData(hdf5_path=session)"
   ]
  },
  {
   "cell_type": "code",
   "execution_count": 9,
   "metadata": {},
   "outputs": [
    {
     "name": "stdout",
     "output_type": "stream",
     "text": [
      "dict_keys(['time', 'joint_angles', 'emg'])\n",
      "\n",
      "emg shape:           (119116, 16)\n",
      "joint_angles shape:  (119116, 20)\n",
      "time shape:          (119116,)\n"
     ]
    }
   ],
   "source": [
    "print(data.fields)\n",
    "print()\n",
    "\n",
    "print(f\"{'emg shape: ':<20} {data['emg'].shape}\")\n",
    "print(f\"{'joint_angles shape: ':<20} {data['joint_angles'].shape}\")\n",
    "print(f\"{'time shape: ':<20} {data['time'].shape}\")"
   ]
  },
  {
   "cell_type": "code",
   "execution_count": null,
   "metadata": {},
   "outputs": [],
   "source": []
  }
 ],
 "metadata": {
  "kernelspec": {
   "display_name": "emg2pose",
   "language": "python",
   "name": "python3"
  },
  "language_info": {
   "codemirror_mode": {
    "name": "ipython",
    "version": 3
   },
   "file_extension": ".py",
   "mimetype": "text/x-python",
   "name": "python",
   "nbconvert_exporter": "python",
   "pygments_lexer": "ipython3",
   "version": "3.10.13"
  }
 },
 "nbformat": 4,
 "nbformat_minor": 2
}
